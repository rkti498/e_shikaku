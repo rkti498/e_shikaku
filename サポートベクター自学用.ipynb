{
  "nbformat": 4,
  "nbformat_minor": 0,
  "metadata": {
    "colab": {
      "name": "サポートベクター自学用.ipynb",
      "provenance": [],
      "collapsed_sections": [],
      "authorship_tag": "ABX9TyOl+QduS8QjS9jEaU3TqzWe"
    },
    "kernelspec": {
      "name": "python3",
      "display_name": "Python 3"
    },
    "language_info": {
      "name": "python"
    }
  },
  "cells": [
    {
      "cell_type": "markdown",
      "metadata": {
        "id": "T0IZiJuBz_vT"
      },
      "source": [
        "youtubeとネットで大体の理論を学習\n",
        "https://www.youtube.com/watch?v=2IB7vkfGeAA\n",
        "https://qiita.com/renesisu727/items/1cf367d17b46237f9c7a\n",
        "\n",
        "\n"
      ]
    },
    {
      "cell_type": "code",
      "metadata": {
        "colab": {
          "base_uri": "https://localhost:8080/"
        },
        "id": "3SJKstmdvioi",
        "outputId": "ed98a07f-d10c-4741-d485-52e6262c7d0c"
      },
      "source": [
        "!pip install mglearn"
      ],
      "execution_count": 2,
      "outputs": [
        {
          "output_type": "stream",
          "text": [
            "Collecting mglearn\n",
            "\u001b[?25l  Downloading https://files.pythonhosted.org/packages/65/38/8aced26fce0b2ae82c3c87cd3b6105f38ca6d9d51704ecc44aa54473e6b9/mglearn-0.1.9.tar.gz (540kB)\n",
            "\r\u001b[K     |▋                               | 10kB 13.4MB/s eta 0:00:01\r\u001b[K     |█▏                              | 20kB 17.6MB/s eta 0:00:01\r\u001b[K     |█▉                              | 30kB 9.4MB/s eta 0:00:01\r\u001b[K     |██▍                             | 40kB 8.2MB/s eta 0:00:01\r\u001b[K     |███                             | 51kB 4.5MB/s eta 0:00:01\r\u001b[K     |███▋                            | 61kB 5.1MB/s eta 0:00:01\r\u001b[K     |████▎                           | 71kB 5.1MB/s eta 0:00:01\r\u001b[K     |████▉                           | 81kB 5.5MB/s eta 0:00:01\r\u001b[K     |█████▌                          | 92kB 5.6MB/s eta 0:00:01\r\u001b[K     |██████                          | 102kB 6.0MB/s eta 0:00:01\r\u001b[K     |██████▊                         | 112kB 6.0MB/s eta 0:00:01\r\u001b[K     |███████▎                        | 122kB 6.0MB/s eta 0:00:01\r\u001b[K     |███████▉                        | 133kB 6.0MB/s eta 0:00:01\r\u001b[K     |████████▌                       | 143kB 6.0MB/s eta 0:00:01\r\u001b[K     |█████████                       | 153kB 6.0MB/s eta 0:00:01\r\u001b[K     |█████████▊                      | 163kB 6.0MB/s eta 0:00:01\r\u001b[K     |██████████▎                     | 174kB 6.0MB/s eta 0:00:01\r\u001b[K     |███████████                     | 184kB 6.0MB/s eta 0:00:01\r\u001b[K     |███████████▌                    | 194kB 6.0MB/s eta 0:00:01\r\u001b[K     |████████████▏                   | 204kB 6.0MB/s eta 0:00:01\r\u001b[K     |████████████▊                   | 215kB 6.0MB/s eta 0:00:01\r\u001b[K     |█████████████▍                  | 225kB 6.0MB/s eta 0:00:01\r\u001b[K     |██████████████                  | 235kB 6.0MB/s eta 0:00:01\r\u001b[K     |██████████████▋                 | 245kB 6.0MB/s eta 0:00:01\r\u001b[K     |███████████████▏                | 256kB 6.0MB/s eta 0:00:01\r\u001b[K     |███████████████▊                | 266kB 6.0MB/s eta 0:00:01\r\u001b[K     |████████████████▍               | 276kB 6.0MB/s eta 0:00:01\r\u001b[K     |█████████████████               | 286kB 6.0MB/s eta 0:00:01\r\u001b[K     |█████████████████▋              | 296kB 6.0MB/s eta 0:00:01\r\u001b[K     |██████████████████▏             | 307kB 6.0MB/s eta 0:00:01\r\u001b[K     |██████████████████▉             | 317kB 6.0MB/s eta 0:00:01\r\u001b[K     |███████████████████▍            | 327kB 6.0MB/s eta 0:00:01\r\u001b[K     |████████████████████            | 337kB 6.0MB/s eta 0:00:01\r\u001b[K     |████████████████████▋           | 348kB 6.0MB/s eta 0:00:01\r\u001b[K     |█████████████████████▎          | 358kB 6.0MB/s eta 0:00:01\r\u001b[K     |█████████████████████▉          | 368kB 6.0MB/s eta 0:00:01\r\u001b[K     |██████████████████████▌         | 378kB 6.0MB/s eta 0:00:01\r\u001b[K     |███████████████████████         | 389kB 6.0MB/s eta 0:00:01\r\u001b[K     |███████████████████████▋        | 399kB 6.0MB/s eta 0:00:01\r\u001b[K     |████████████████████████▎       | 409kB 6.0MB/s eta 0:00:01\r\u001b[K     |████████████████████████▉       | 419kB 6.0MB/s eta 0:00:01\r\u001b[K     |█████████████████████████▌      | 430kB 6.0MB/s eta 0:00:01\r\u001b[K     |██████████████████████████      | 440kB 6.0MB/s eta 0:00:01\r\u001b[K     |██████████████████████████▊     | 450kB 6.0MB/s eta 0:00:01\r\u001b[K     |███████████████████████████▎    | 460kB 6.0MB/s eta 0:00:01\r\u001b[K     |████████████████████████████    | 471kB 6.0MB/s eta 0:00:01\r\u001b[K     |████████████████████████████▌   | 481kB 6.0MB/s eta 0:00:01\r\u001b[K     |█████████████████████████████▏  | 491kB 6.0MB/s eta 0:00:01\r\u001b[K     |█████████████████████████████▊  | 501kB 6.0MB/s eta 0:00:01\r\u001b[K     |██████████████████████████████▍ | 512kB 6.0MB/s eta 0:00:01\r\u001b[K     |███████████████████████████████ | 522kB 6.0MB/s eta 0:00:01\r\u001b[K     |███████████████████████████████▌| 532kB 6.0MB/s eta 0:00:01\r\u001b[K     |████████████████████████████████| 542kB 6.0MB/s \n",
            "\u001b[?25hRequirement already satisfied: numpy in /usr/local/lib/python3.7/dist-packages (from mglearn) (1.19.5)\n",
            "Requirement already satisfied: matplotlib in /usr/local/lib/python3.7/dist-packages (from mglearn) (3.2.2)\n",
            "Requirement already satisfied: scikit-learn in /usr/local/lib/python3.7/dist-packages (from mglearn) (0.22.2.post1)\n",
            "Requirement already satisfied: pandas in /usr/local/lib/python3.7/dist-packages (from mglearn) (1.1.5)\n",
            "Requirement already satisfied: pillow in /usr/local/lib/python3.7/dist-packages (from mglearn) (7.1.2)\n",
            "Requirement already satisfied: cycler in /usr/local/lib/python3.7/dist-packages (from mglearn) (0.10.0)\n",
            "Requirement already satisfied: imageio in /usr/local/lib/python3.7/dist-packages (from mglearn) (2.4.1)\n",
            "Requirement already satisfied: joblib in /usr/local/lib/python3.7/dist-packages (from mglearn) (1.0.1)\n",
            "Requirement already satisfied: kiwisolver>=1.0.1 in /usr/local/lib/python3.7/dist-packages (from matplotlib->mglearn) (1.3.1)\n",
            "Requirement already satisfied: python-dateutil>=2.1 in /usr/local/lib/python3.7/dist-packages (from matplotlib->mglearn) (2.8.1)\n",
            "Requirement already satisfied: pyparsing!=2.0.4,!=2.1.2,!=2.1.6,>=2.0.1 in /usr/local/lib/python3.7/dist-packages (from matplotlib->mglearn) (2.4.7)\n",
            "Requirement already satisfied: scipy>=0.17.0 in /usr/local/lib/python3.7/dist-packages (from scikit-learn->mglearn) (1.4.1)\n",
            "Requirement already satisfied: pytz>=2017.2 in /usr/local/lib/python3.7/dist-packages (from pandas->mglearn) (2018.9)\n",
            "Requirement already satisfied: six in /usr/local/lib/python3.7/dist-packages (from cycler->mglearn) (1.15.0)\n",
            "Building wheels for collected packages: mglearn\n",
            "  Building wheel for mglearn (setup.py) ... \u001b[?25l\u001b[?25hdone\n",
            "  Created wheel for mglearn: filename=mglearn-0.1.9-py2.py3-none-any.whl size=582638 sha256=24b7b45ca60224faee72b7b75223234bbdf80127347b5c350f6616eeaca334b9\n",
            "  Stored in directory: /root/.cache/pip/wheels/eb/a6/ea/a6a3716233fa62fc561259b5cb1e28f79e9ff3592c0adac5f0\n",
            "Successfully built mglearn\n",
            "Installing collected packages: mglearn\n",
            "Successfully installed mglearn-0.1.9\n"
          ],
          "name": "stdout"
        }
      ]
    },
    {
      "cell_type": "code",
      "metadata": {
        "id": "ZXjPlmzHz4UH"
      },
      "source": [
        "import mglearn\n",
        "import matplotlib.pyplot as plt\n",
        "from sklearn.model_selection import train_test_split\n",
        "from sklearn.svm import LinearSVC\n",
        "from sklearn.datasets import load_iris"
      ],
      "execution_count": 43,
      "outputs": []
    },
    {
      "cell_type": "code",
      "metadata": {
        "id": "oSTU_zngwQh0"
      },
      "source": [
        "iris = load_iris()\n",
        "X_train, X_test, y_train, y_test = train_test_split(iris.data, iris.target, test_size=0.2)\n"
      ],
      "execution_count": 20,
      "outputs": []
    },
    {
      "cell_type": "code",
      "metadata": {
        "colab": {
          "base_uri": "https://localhost:8080/"
        },
        "id": "dOhcs9OXx4o2",
        "outputId": "e5b73ef7-1603-4668-f931-66f0277adea1"
      },
      "source": [
        "print(y_train)\n",
        "print(y_test)"
      ],
      "execution_count": 22,
      "outputs": [
        {
          "output_type": "stream",
          "text": [
            "[1 2 2 2 1 0 1 0 2 1 2 1 0 2 0 1 1 0 2 1 2 1 1 0 1 0 0 2 0 2 1 0 1 2 0 1 1\n",
            " 2 1 0 0 0 1 1 2 1 2 2 1 2 0 2 1 1 2 0 2 2 0 2 1 0 0 0 0 2 0 1 0 2 2 0 2 1\n",
            " 1 2 0 0 0 1 0 1 0 0 2 1 2 1 0 2 0 2 0 1 0 2 2 2 1 1 1 1 0 0 0 2 0 1 2 1 1\n",
            " 2 0 1 1 1 0 1 2 2]\n",
            "[0 0 1 0 1 1 0 2 1 2 2 0 2 0 0 2 2 2 0 1 2 2 2 0 2 1 1 1 2 0]\n"
          ],
          "name": "stdout"
        }
      ]
    },
    {
      "cell_type": "code",
      "metadata": {
        "colab": {
          "base_uri": "https://localhost:8080/"
        },
        "id": "kbRLRTXqygnX",
        "outputId": "3ac87829-8bdb-41cd-ad0d-33a2dd1e228e"
      },
      "source": [
        "model = LinearSVC()\n",
        "model.fit(X_train, y_train)\n",
        "\n",
        "print(model.score(X_train, y_train))\n",
        "\n",
        "print(model.predict(X_test))"
      ],
      "execution_count": 44,
      "outputs": [
        {
          "output_type": "stream",
          "text": [
            "0.9066666666666666\n",
            "[1 1 0 0 0 1 0 1 0 1 1 0 0 1 1 0 1 0 0 0 0 0 1 1 1]\n"
          ],
          "name": "stdout"
        }
      ]
    },
    {
      "cell_type": "code",
      "metadata": {
        "colab": {
          "base_uri": "https://localhost:8080/",
          "height": 265
        },
        "id": "lAOYZ8MIzrvf",
        "outputId": "b6fc8b88-4344-4901-d4c3-9c9ac9e54d65"
      },
      "source": [
        "iris = load_iris()\n",
        "X = iris.data[50:, 2:]\n",
        "y = iris.target[50:] - 1\n",
        "mglearn.discrete_scatter(X[:, 0], X[:, 1], y)\n",
        "plt.legend(['versicolor', 'virginica'], loc='best')\n",
        "p lt.show()\n"
      ],
      "execution_count": 35,
      "outputs": [
        {
          "output_type": "display_data",
          "data": {
            "image/png": "[encoded data removed]",
            "text/plain": [
              "<Figure size 432x288 with 1 Axes>"
            ]
          },
          "metadata": {
            "tags": [],
            "needs_background": "light"
          }
        }
      ]
    },
    {
      "cell_type": "code",
      "metadata": {
        "colab": {
          "base_uri": "https://localhost:8080/",
          "height": 372
        },
        "id": "2p9aAlNl1hJx",
        "outputId": "f9376b3b-bcf3-4ef6-a47a-a19ca3e748b1"
      },
      "source": [
        "# X_train, X_test, y_train, y_test = train_test_split(X, y, test_size=0.2)\n",
        "\n",
        "X_train, X_test, y_train, y_test = train_test_split(X, y, stratify=y, random_state=0)\n",
        "\n",
        "\n",
        "model = LinearSVC().fit(X_train, y_train)\n",
        "\n",
        "def plot_separator(model):\n",
        "  plt.figure(figsize=(10, 6)  )\n",
        "  mglearn.plots.plot_2d_separator(model, X)\n",
        "  mglearn.discrete_scatter(X[:, 0], X[:, 1], y)\n",
        "  plt.xlabel('petal_length')\n",
        "  plt.ylabel('petal_widtth')\n",
        "  plt.show()\n",
        "\n",
        "plot_separator(model)\n",
        "\n",
        "# きれいに分割できている。"
      ],
      "execution_count": 47,
      "outputs": [
        {
          "output_type": "display_data",
          "data": {
            "image/png": "[encoded data removed]",
            "text/plain": [
              "<Figure size 720x432 with 1 Axes>"
            ]
          },
          "metadata": {
            "tags": []
          }
        }
      ]
    }
  ]
}