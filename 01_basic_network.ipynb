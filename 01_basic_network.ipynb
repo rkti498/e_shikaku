{
  "nbformat": 4,
  "nbformat_minor": 0,
  "metadata": {
    "colab": {
      "name": "01_basic_network.ipynb",
      "provenance": [],
      "collapsed_sections": [
        "nqDOtl7enZnL",
        "ELnW2yIxbpjA",
        "DlgO5HvQrByK",
        "Tr2BNetLG4tD",
        "UG1cpz_kqm7R",
        "y5tfxVAENt__",
        "DjvjTun_IvgQ",
        "MeaNCZ3Bwab7",
        "BiJ4Aeo6S0zp"
      ],
      "authorship_tag": "ABX9TyOyW7yxfqq/XEvFb5rjw2T0",
      "include_colab_link": true
    },
    "kernelspec": {
      "name": "python3",
      "display_name": "Python 3"
    },
    "language_info": {
      "name": "python"
    }
  },
  "cells": [
    {
      "cell_type": "markdown",
      "metadata": {
        "id": "view-in-github",
        "colab_type": "text"
      },
      "source": [
        "<a href=\"https://colab.research.google.com/github/rkti498/e_shikaku/blob/main/01_basic_network.ipynb\" target=\"_parent\"><img src=\"https://colab.research.google.com/assets/colab-badge.svg\" alt=\"Open In Colab\"/></a>"
      ]
    },
    {
      "cell_type": "markdown",
      "metadata": {
        "id": "nqDOtl7enZnL"
      },
      "source": [
        "## 01 基本的なネットワーク\n",
        "### 順伝播、誤差逆伝播とパラメータ更新\n",
        "\n",
        "sample_net01　順伝播　--　入力2、中間層3、出力1の順伝播（行列なし）  \n",
        "sample_net02　順伝播　--　入力2、中間層3、出力1の順伝播（行列あり）  \n",
        "sample_net03　回帰　2-3-1  \n",
        "sample_net04　誤差逆伝播（バックプロパゲーション）とパラメータ更新の実装  \n"
      ]
    },
    {
      "cell_type": "code",
      "metadata": {
        "id": "RyAsDfq-xNC9"
      },
      "source": [
        "import numpy as np\n",
        "import matplotlib.pyplot as plt"
      ],
      "execution_count": null,
      "outputs": []
    },
    {
      "cell_type": "markdown",
      "metadata": {
        "id": "ELnW2yIxbpjA"
      },
      "source": [
        "### sample_net01　順伝播　--　入力2、中間層3、出力1の順伝播（行列なし）  \n",
        "\n",
        "単純に順伝播を計算して値を出力するだけ。出力層で何もやっていない。\n",
        "はじめに意図的に冗長に変数を一つずつ作成する"
      ]
    },
    {
      "cell_type": "code",
      "metadata": {
        "id": "Hm7m5ojOc-is"
      },
      "source": [
        "seed = 88"
      ],
      "execution_count": null,
      "outputs": []
    },
    {
      "cell_type": "code",
      "metadata": {
        "colab": {
          "base_uri": "https://localhost:8080/"
        },
        "id": "q8JjmNzWaX4h",
        "outputId": "fd43bb64-4d79-49d2-bebb-37d200b21d34"
      },
      "source": [
        "np.random.seed(seed=seed)\n",
        "\n",
        "w1_11 = np.random.rand() * 0.1\n",
        "w1_12 = np.random.rand() * 0.1\n",
        "w1_13 = np.random.rand() * 0.1\n",
        "w1_1b = np.random.rand() * 0.1\n",
        "w1_21 = np.random.rand() * 0.1\n",
        "w1_22 = np.random.rand() * 0.1\n",
        "w1_23 = np.random.rand() * 0.1\n",
        "w1_2b = np.random.rand() * 0.1\n",
        "print(w1_11)\n",
        "print(w1_12)\n",
        "print(w1_13)\n",
        "print(w1_1b)\n",
        "print(w1_21)\n",
        "print(w1_22)\n",
        "print(w1_23)\n",
        "print(w1_2b)\n",
        "\n",
        "w2_1 = np.random.rand() * 0.1\n",
        "w2_2 = np.random.rand() * 0.1\n",
        "w2_3 = np.random.rand() * 0.1\n",
        "w2_b = np.random.rand() * 0.1\n",
        "print(w2_1)\n",
        "print(w2_2)\n",
        "print(w2_3)\n",
        "print(w2_b)\n"
      ],
      "execution_count": null,
      "outputs": [
        {
          "output_type": "stream",
          "text": [
            "0.06475510493530234\n",
            "0.05071496882130802\n",
            "0.05283413801522394\n",
            "0.08962852040098879\n",
            "0.0699991190667488\n",
            "0.0714297101871135\n",
            "0.07173383820914007\n",
            "0.02228194621828611\n",
            "0.017515452332402304\n",
            "0.04568414883380811\n",
            "0.09287384315385623\n",
            "0.000988588704044846\n"
          ],
          "name": "stdout"
        }
      ]
    },
    {
      "cell_type": "code",
      "metadata": {
        "id": "HzUaHFTGdC_N"
      },
      "source": [
        "def sigmoid(x):\n",
        "  return 1 / (1 + np.exp(-x))\n",
        "\n",
        "def forward(inp1, inp2):\n",
        "  # 入力層から中間層への線形変換\n",
        "  u11 = inp1 * w1_11 + w1_1b\n",
        "  u12 = inp1 * w1_12 + w1_1b\n",
        "  u13 = inp1 * w1_13 + w1_1b\n",
        "  u21 = inp2 * w1_21 + w1_2b\n",
        "  u22 = inp2 * w1_22 + w1_2b\n",
        "  u23 = inp2 * w1_23 + w1_2b\n",
        "\n",
        "  # 合算\n",
        "  u1 = u11 + u21\n",
        "  u2 = u12 + u22\n",
        "  u3 = u13 + u23\n",
        "\n",
        "  # 活性化\n",
        "  z1 = sigmoid(u1)\n",
        "  z2 = sigmoid(u2)\n",
        "  z3 = sigmoid(u3)\n",
        "\n",
        "  # 中間層から出力層への線形変換\n",
        "  o11 = z1 * w2_1 + w2_b\n",
        "  o21 = z2 * w2_2 + w2_b\n",
        "  o31 = z3 * w2_3 + w2_b\n",
        "\n",
        "  # 合算\n",
        "  y1 = o11 + o21 + o31\n",
        "\n",
        "  return y1\n",
        "\n"
      ],
      "execution_count": null,
      "outputs": []
    },
    {
      "cell_type": "code",
      "metadata": {
        "colab": {
          "base_uri": "https://localhost:8080/"
        },
        "id": "g3jPgIkvqU9D",
        "outputId": "a0171bb9-7525-4881-dacd-8c7f3d97cc72"
      },
      "source": [
        "# sigmoidの確認\n",
        "print(sigmoid(-10))\n",
        "print(sigmoid(-1))\n",
        "print(sigmoid(-0.5))\n",
        "print(sigmoid(0))\n",
        "print(sigmoid(0.5))\n",
        "print(sigmoid(1))\n",
        "print(sigmoid(10))"
      ],
      "execution_count": null,
      "outputs": [
        {
          "output_type": "stream",
          "text": [
            "4.5397868702434395e-05\n",
            "0.2689414213699951\n",
            "0.3775406687981454\n",
            "0.5\n",
            "0.6224593312018546\n",
            "0.7310585786300049\n",
            "0.9999546021312976\n"
          ],
          "name": "stdout"
        }
      ]
    },
    {
      "cell_type": "code",
      "metadata": {
        "colab": {
          "base_uri": "https://localhost:8080/"
        },
        "id": "dg8YsRkigdqK",
        "outputId": "12bc05ff-8da1-4dfd-a055-98b790e0c11e"
      },
      "source": [
        "\n",
        "\n",
        "print(forward(0.5, 0.8))\n",
        "print(forward(0.3, 0.8))\n",
        "print(forward(0.1, 0.4))\n",
        "print(forward(0.3, 1.8))\n",
        "print(forward(2.8, 5.5))\n",
        "print(forward(1.3, 0.5))\n",
        "print(forward(1, 1))\n",
        "print(forward(2, 4))\n",
        "print(forward(5, 8))\n",
        "print(forward(8, 3))\n",
        "print(forward(12, 1))\n",
        "print(forward(15, 3))\n",
        "print(forward(8, 10))\n",
        "print(forward(10, 30))\n",
        "print(forward(20, 10))\n",
        "print(forward(40, 35))\n"
      ],
      "execution_count": null,
      "outputs": [
        {
          "output_type": "stream",
          "text": [
            "0.08861975734596922\n",
            "0.08820563083434088\n",
            "0.08668308220557812\n",
            "0.09095949305037576\n",
            "0.10567698039409074\n",
            "0.08944609354161223\n",
            "0.09020339178475359\n",
            "0.10029142875559631\n",
            "0.11555057321661244\n",
            "0.10912023721493733\n",
            "0.11149990043643107\n",
            "0.12089209278467027\n",
            "0.12440588415824992\n",
            "0.1500127561099443\n",
            "0.13864956295534872\n",
            "0.15769389080344126\n"
          ],
          "name": "stdout"
        }
      ]
    },
    {
      "cell_type": "code",
      "metadata": {
        "id": "mIRvBJHSsC9J"
      },
      "source": [
        "\n",
        "# 出力用の関数\n",
        "def print_vec(text, vec):\n",
        "    print(\"*** \" + text + \" ***\")\n",
        "    print(vec)\n",
        "    print(\"shape: \" + str(vec.shape))\n",
        "\n",
        "    print(\"\")\n",
        "\n",
        "\n",
        "def relu(x):\n",
        "  \"\"\"\n",
        "  これだけでOK。numpyの関数をうまく使えば、このように大抵は１行で書ける。\n",
        "  \"\"\"\n",
        "  return np.maximum(x, 0)"
      ],
      "execution_count": null,
      "outputs": []
    },
    {
      "cell_type": "markdown",
      "metadata": {
        "id": "DlgO5HvQrByK"
      },
      "source": [
        "### sample_net02　順伝播　--　入力2、中間層3、出力1の順伝播（行列あり）  \n",
        "\n",
        "単純に順伝播を計算して値を出力するだけ。これも出力層で何もやっていない。  \n",
        "さっきは変数を冗長に個々に作成したが、今回はnumpy行列を使う  \n",
        "（今後は常に行列あり）  "
      ]
    },
    {
      "cell_type": "code",
      "metadata": {
        "colab": {
          "base_uri": "https://localhost:8080/"
        },
        "id": "iSAc3jkurKaJ",
        "outputId": "45498f53-feb8-47cf-9cf8-b929b081d1c1"
      },
      "source": [
        "# 順伝播（3層・複数ユニット）\n",
        "\n",
        "# ウェイトとバイアスを設定\n",
        "# ネートワークを作成\n",
        "def init_network02():\n",
        "    np.random.seed(seed=seed)\n",
        "\n",
        "    print(\"##### ネットワークの初期化 #####\")\n",
        "    network = {}\n",
        "    \n",
        "    input_layer_size = 2\n",
        "    hidden_layer_size_1 = 3\n",
        "    # hidden_layer_size_2 = 5\n",
        "    output_layer_size = 1\n",
        "    \n",
        "    #試してみよう\n",
        "    #_各パラメータのshapeを表示\n",
        "    #_ネットワークの初期値ランダム生成\n",
        "    network['W1'] = np.random.rand(input_layer_size, hidden_layer_size_1)\n",
        "    network['W2'] = np.random.rand(hidden_layer_size_1, output_layer_size)\n",
        "    # network['W2'] = np.random.rand(hidden_layer_size_1,hidden_layer_size_2)\n",
        "    # network['W3'] = np.random.rand(hidden_layer_size_2,output_layer_size)\n",
        "\n",
        "    network['b1'] =  np.random.rand(hidden_layer_size_1)\n",
        "    network['b2'] =  np.random.rand(output_layer_size)\n",
        "    # network['b2'] =  np.random.rand(hidden_layer_size_2)\n",
        "    # network['b3'] =  np.random.rand(output_layer_size)\n",
        "\n",
        "    print_vec(\"重み1\", network['W1'] )\n",
        "    print_vec(\"重み2\", network['W2'] )\n",
        "    # print_vec(\"重み3\", network['W3'] )\n",
        "    print_vec(\"バイアス1\", network['b1'] )\n",
        "    print_vec(\"バイアス2\", network['b2'] )\n",
        "    # print_vec(\"バイアス3\", network['b3'] )\n",
        "\n",
        "    return network\n",
        "\n",
        "# プロセスを作成\n",
        "# x：入力値\n",
        "def forward02(network, x):\n",
        "    \n",
        "    print(\"##### 順伝播開始 #####\")\n",
        "\n",
        "    W1, W2 = network['W1'], network['W2']\n",
        "    b1, b2 = network['b1'], network['b2']\n",
        "\n",
        "    # W1, W2, W3 = network['W1'], network['W2'], network['W3']\n",
        "    # b1, b2, b3 = network['b1'], network['b2'], network['b3']\n",
        "    \n",
        "    # 1層の総入力\n",
        "    u1 = np.dot(x, W1) + b1\n",
        "    \n",
        "    # 1層の総出力\n",
        "    z1 = relu(u1)\n",
        "    \n",
        "    # # 2層の総入力\n",
        "    # u2 = np.dot(z1, W2) + b2\n",
        "    \n",
        "    # # 2層の総出力\n",
        "    # z2 = relu(u2)\n",
        "\n",
        "    # # 出力層の総入力\n",
        "    # u3 = np.dot(z2, W3) + b3\n",
        "    \n",
        "    # # 出力層の総出力\n",
        "    # y = u3\n",
        "    \n",
        "    # 出力層の総入力\n",
        "    u2 = np.dot(z1, W2) + b2\n",
        "    \n",
        "    # 出力層の総出力\n",
        "    y = u2\n",
        "\n",
        "    print_vec(\"総入力1\", u1)\n",
        "    print_vec(\"中間層出力1\", z1)\n",
        "    # print_vec(\"中間層出力2\", z2)\n",
        "    print_vec(\"総入力2\", u2)\n",
        "    print_vec(\"出力\", y)\n",
        "    print(\"出力合計: \" + str(np.sum(y)))\n",
        "\n",
        "    return y, z1\n",
        "\n",
        "# 入力値\n",
        "# x = np.array([1., 2., 4.])\n",
        "x = np.array([1., 2.])\n",
        "print_vec(\"入力\", x)\n",
        "\n",
        "# ネットワークの初期化\n",
        "network =  init_network02()\n",
        "\n",
        "y, z1 = forward02(network, x)"
      ],
      "execution_count": null,
      "outputs": [
        {
          "output_type": "stream",
          "text": [
            "*** 入力 ***\n",
            "[1. 2.]\n",
            "shape: (2,)\n",
            "\n",
            "##### ネットワークの初期化 #####\n",
            "*** 重み1 ***\n",
            "[[0.64755105 0.50714969 0.52834138]\n",
            " [0.8962852  0.69999119 0.7142971 ]]\n",
            "shape: (2, 3)\n",
            "\n",
            "*** 重み2 ***\n",
            "[[0.71733838]\n",
            " [0.22281946]\n",
            " [0.17515452]]\n",
            "shape: (3, 1)\n",
            "\n",
            "*** バイアス1 ***\n",
            "[0.45684149 0.92873843 0.00988589]\n",
            "shape: (3,)\n",
            "\n",
            "*** バイアス2 ***\n",
            "[0.08992219]\n",
            "shape: (1,)\n",
            "\n",
            "##### 順伝播開始 #####\n",
            "*** 総入力1 ***\n",
            "[2.89696295 2.8358705  1.96682147]\n",
            "shape: (3,)\n",
            "\n",
            "*** 中間層出力1 ***\n",
            "[2.89696295 2.8358705  1.96682147]\n",
            "shape: (3,)\n",
            "\n",
            "*** 総入力2 ***\n",
            "[3.14440972]\n",
            "shape: (1,)\n",
            "\n",
            "*** 出力 ***\n",
            "[3.14440972]\n",
            "shape: (1,)\n",
            "\n",
            "出力合計: 3.144409724216362\n"
          ],
          "name": "stdout"
        }
      ]
    },
    {
      "cell_type": "markdown",
      "metadata": {
        "id": "Tr2BNetLG4tD"
      },
      "source": [
        "### sample_net03　回帰　2-3-1  \n",
        "\n",
        "入力２、中間層1層（３個）、出力１で、平均２乗誤差の回帰を作成。"
      ]
    },
    {
      "cell_type": "code",
      "metadata": {
        "id": "CFDcigGF9bm9"
      },
      "source": [
        "def mean_squared_error(t, y):\n",
        "  return np.mean((t - y) ** 2) / 2"
      ],
      "execution_count": null,
      "outputs": []
    },
    {
      "cell_type": "code",
      "metadata": {
        "id": "LgRaghDAIo0_"
      },
      "source": [
        "def d_mean_squared_error(t, y):\n",
        "  if type(t) == np.ndarray:\n",
        "    batch_size = t.shape[0]\n",
        "    dx = (y - t) / batch_size\n",
        "  else:\n",
        "    dx = y - t\n",
        "  return dx\n",
        "\n",
        "      "
      ],
      "execution_count": null,
      "outputs": []
    },
    {
      "cell_type": "code",
      "metadata": {
        "colab": {
          "base_uri": "https://localhost:8080/"
        },
        "id": "fysGm9R69VJD",
        "outputId": "8b72a6ec-b13c-4dad-fccf-42e9104abb75"
      },
      "source": [
        "# 回帰\n",
        "# 2-3-1ネットワーク\n",
        "\n",
        "# ウェイトとバイアスを設定\n",
        "# ネートワークを作成\n",
        "def init_network03():\n",
        "    np.random.seed(seed=seed)\n",
        "\n",
        "    print(\"##### ネットワークの初期化 #####\")\n",
        "\n",
        "    input_layer_size = 2\n",
        "    hidden_layer_size = 3\n",
        "    output_layer_size = 1\n",
        "    \n",
        "    network['W1'] = np.random.rand(input_layer_size, hidden_layer_size)\n",
        "    network['W2'] = np.random.rand(hidden_layer_size,output_layer_size)\n",
        "\n",
        "    network['b1'] =  np.random.rand(hidden_layer_size)\n",
        "    network['b2'] =  np.random.rand(output_layer_size)\n",
        "    \n",
        "    print_vec(\"重み1\", network['W1'] )\n",
        "    print_vec(\"重み2\", network['W2'] )\n",
        "    print_vec(\"バイアス1\", network['b1'] )\n",
        "    print_vec(\"バイアス2\", network['b2'] )\n",
        "\n",
        "    return network\n",
        "\n",
        "# プロセスを作成\n",
        "def forward03(network, x):\n",
        "    print(\"##### 順伝播開始 #####\")\n",
        "    \n",
        "    W1, W2 = network['W1'], network['W2']\n",
        "    b1, b2 = network['b1'], network['b2']\n",
        "    # 隠れ層の総入力\n",
        "    u1 = np.dot(x, W1) + b1\n",
        "    # 隠れ層の総出力\n",
        "    z1 = relu(u1)\n",
        "    # 出力層の総入力\n",
        "    u2 = np.dot(z1, W2) + b2\n",
        "    # 出力層の総出力\n",
        "    y = u2\n",
        "    \n",
        "    print_vec(\"総入力1\", u1)\n",
        "    print_vec(\"中間層出力1\", z1)\n",
        "    print_vec(\"総入力2\", u2)\n",
        "    print_vec(\"出力1\", y)\n",
        "    print(\"出力合計: \" + str(np.sum(y)))\n",
        "    \n",
        "    return y, z1\n",
        "\n",
        "# 入力値\n",
        "x = np.array([1., 2.])\n",
        "# x = np.array([1., 2., 3.])\n",
        "network =  init_network03()\n",
        "y, z1 = forward03(network, x)\n",
        "# 目標出力\n",
        "t = np.array([2.])\n",
        "# t = np.array([2., 4.])\n",
        "# 誤差\n",
        "loss = mean_squared_error(t, y)\n",
        "\n",
        "## 表示\n",
        "print(\"\\n##### 結果表示 #####\")\n",
        "print_vec(\"中間層出力\", z1)\n",
        "print_vec(\"出力\", y)\n",
        "print_vec(\"訓練データ\", t)\n",
        "print_vec(\"二乗誤差\",  loss)"
      ],
      "execution_count": null,
      "outputs": [
        {
          "output_type": "stream",
          "text": [
            "##### ネットワークの初期化 #####\n",
            "*** 重み1 ***\n",
            "[[0.64755105 0.50714969 0.52834138]\n",
            " [0.8962852  0.69999119 0.7142971 ]]\n",
            "shape: (2, 3)\n",
            "\n",
            "*** 重み2 ***\n",
            "[[0.71733838]\n",
            " [0.22281946]\n",
            " [0.17515452]]\n",
            "shape: (3, 1)\n",
            "\n",
            "*** バイアス1 ***\n",
            "[0.45684149 0.92873843 0.00988589]\n",
            "shape: (3,)\n",
            "\n",
            "*** バイアス2 ***\n",
            "[0.08992219]\n",
            "shape: (1,)\n",
            "\n",
            "##### 順伝播開始 #####\n",
            "*** 総入力1 ***\n",
            "[2.89696295 2.8358705  1.96682147]\n",
            "shape: (3,)\n",
            "\n",
            "*** 中間層出力1 ***\n",
            "[2.89696295 2.8358705  1.96682147]\n",
            "shape: (3,)\n",
            "\n",
            "*** 総入力2 ***\n",
            "[3.14440972]\n",
            "shape: (1,)\n",
            "\n",
            "*** 出力1 ***\n",
            "[3.14440972]\n",
            "shape: (1,)\n",
            "\n",
            "出力合計: 3.144409724216362\n",
            "\n",
            "##### 結果表示 #####\n",
            "*** 中間層出力 ***\n",
            "[2.89696295 2.8358705  1.96682147]\n",
            "shape: (3,)\n",
            "\n",
            "*** 出力 ***\n",
            "[3.14440972]\n",
            "shape: (1,)\n",
            "\n",
            "*** 訓練データ ***\n",
            "[2.]\n",
            "shape: (1,)\n",
            "\n",
            "*** 二乗誤差 ***\n",
            "0.6548368084404849\n",
            "shape: ()\n",
            "\n"
          ],
          "name": "stdout"
        }
      ]
    },
    {
      "cell_type": "markdown",
      "metadata": {
        "id": "UG1cpz_kqm7R"
      },
      "source": [
        "### 順伝播時の行列サイズの確認\n",
        "\n"
      ]
    },
    {
      "cell_type": "markdown",
      "metadata": {
        "id": "y5tfxVAENt__"
      },
      "source": [
        "#### 入力層から中間層へ\n",
        "\n",
        "$$\n",
        "  \\begin{pmatrix}\n",
        "    x_1 \\quad x_2 \\\\\n",
        "  \\end{pmatrix}\n",
        "  \\cdot\n",
        "  \\begin{bmatrix}\n",
        "    w_{11} \\quad w_{12} \\quad w_{13} \\\\\n",
        "    w_{21} \\quad w_{22} \\quad w_{23} \\\\\n",
        "  \\end{bmatrix}\n",
        "  \\quad\n",
        "  +\n",
        "  \\quad\n",
        "  \\begin{pmatrix}\n",
        "    b_1 \\quad b_2 \\quad b_3\n",
        "  \\end{pmatrix}\n",
        "  \\quad\n",
        "  =\n",
        "  \\quad\n",
        "  \\begin{pmatrix}\n",
        "    u_1 \\quad u_2 \\quad u_3\n",
        "  \\end{pmatrix}\n",
        "$$\n",
        "\n",
        "まず、(1x2)・(2x3)の積なので、(1x3)のベクトルとなり、  \n",
        "1x3のバイアス（同じシェイプ）を加算する。  \n",
        "スカラーの式で表すとこうなる。\n",
        "\n",
        "$$\n",
        "x_1 * w_{11} \\quad + \\quad x_2 * w_{21} \\quad + \\quad b1_1 \\quad = \\quad u_1 \\\\  \n",
        "x_1 * w_{12} \\quad + \\quad x_2 * w_{22} \\quad + \\quad b1_2 \\quad = \\quad u_2 \\\\\n",
        "x_1 * w_{13} \\quad + \\quad x_2 * w_{23} \\quad + \\quad b1_3 \\quad = \\quad u_3 \\\\\n",
        "$$\n",
        "\n",
        "行列の積では、「掛けて足す掛けて足す・・・」を自動でやってくれる。  \n",
        "その演算結果それぞれに対してバイアスを足す、というイメージ  \n",
        "\n",
        "\n",
        "### 中間層から出力層へ\n",
        "\n",
        "$$\n",
        "  \\begin{pmatrix}\n",
        "    z_1 \\quad z_2 \\quad z_3\n",
        "  \\end{pmatrix}\n",
        "  \\cdot\n",
        "  \\begin{bmatrix}\n",
        "    w_{21} \\\\\n",
        "    w_{22} \\\\\n",
        "    w_{23}\n",
        "  \\end{bmatrix}\n",
        "  \\quad \n",
        "  +\n",
        "  \\quad \n",
        "  \\begin{pmatrix}\n",
        "    b2\n",
        "  \\end{pmatrix}\n",
        "  \\quad \n",
        "  =\n",
        "  \\quad \n",
        "  \\begin{pmatrix}\n",
        "    u2\n",
        "  \\end{pmatrix}\n",
        "$$\n",
        "\n",
        "出力層が１個しかないので、バイアスも１個。\n",
        "\n",
        "\n",
        "\n"
      ]
    },
    {
      "cell_type": "code",
      "metadata": {
        "id": "iUp_VYwGqkUI"
      },
      "source": [
        ""
      ],
      "execution_count": null,
      "outputs": []
    },
    {
      "cell_type": "markdown",
      "metadata": {
        "id": "1AjnfTtEIo37"
      },
      "source": [
        "#### 順伝播ここまで"
      ]
    },
    {
      "cell_type": "markdown",
      "metadata": {
        "id": "DjvjTun_IvgQ"
      },
      "source": [
        "### 誤差逆伝播（バックプロパゲーション）とパラメータ更新の実装\n",
        "### sample_net04\n",
        "sample_net03と講義のサンプルコードをもとにしてbackwardとSDGを実装する。\n",
        "\n"
      ]
    },
    {
      "cell_type": "code",
      "metadata": {
        "id": "nOkwanCAwFnu"
      },
      "source": [
        "def f(xt):\n",
        "    # xt = x.T\n",
        "    y = 3 * xt[0] + 2 * xt[1]\n",
        "    return y"
      ],
      "execution_count": null,
      "outputs": []
    },
    {
      "cell_type": "code",
      "metadata": {
        "id": "p2Nv0WpSqpVs"
      },
      "source": [
        "# ReLU関数の導関数\n",
        "def d_relu(x):\n",
        "    return np.where( x > 0, 1, 0)"
      ],
      "execution_count": null,
      "outputs": []
    },
    {
      "cell_type": "code",
      "metadata": {
        "id": "occkpM85JgiY"
      },
      "source": [
        "# 回帰\n",
        "# 2-3-1ネットワーク\n",
        "\n",
        "# ウェイトとバイアスを設定\n",
        "# ネートワークを作成\n",
        "def init_network04():\n",
        "    np.random.seed(seed=seed)\n",
        "\n",
        "    print(\"##### ネットワークの初期化 #####\")\n",
        "\n",
        "    network = {}\n",
        "\n",
        "    input_layer_size = 2\n",
        "    hidden_layer_size = 10\n",
        "    output_layer_size = 1\n",
        "\n",
        "    network['W1'] = np.random.randn(input_layer_size, hidden_layer_size)\n",
        "    network['W2'] = np.random.randn(hidden_layer_size)\n",
        "    network['b1'] = np.random.randn(hidden_layer_size)\n",
        "    network['b2'] = np.random.randn()\n",
        "\n",
        "\n",
        "    # この重みで初期化すると勾配爆発が起きる\n",
        "    # network['W1'] = np.random.rand(input_layer_size, hidden_layer_size)\n",
        "    # network['W2'] = np.random.rand(hidden_layer_size, output_layer_size)\n",
        "    # network['b1'] =  np.random.rand(hidden_layer_size)\n",
        "    # network['b2'] =  np.random.rand(output_layer_size)\n",
        "\n",
        "    # print_vec(\"重み1\", network['W1'] )\n",
        "    # print_vec(\"重み2\", network['W2'] )\n",
        "    # print_vec(\"バイアス1\", network['b1'] )\n",
        "    # print(\"バイアス2\", network['b2'] )\n",
        "\n",
        "    return network\n",
        "\n",
        "# プロセスを作成\n",
        "def forward04(network, x):\n",
        "    # print(\"##### 順伝播開始 #####\")\n",
        "    \n",
        "    W1, W2 = network['W1'], network['W2']\n",
        "    b1, b2 = network['b1'], network['b2']\n",
        "    # 隠れ層の総入力\n",
        "    u1 = np.dot(x, W1) + b1\n",
        "    # 隠れ層の総出力\n",
        "    z1 = relu(u1)\n",
        "    # 出力層の総入力\n",
        "    u2 = np.dot(z1, W2) + b2\n",
        "    # 出力層の総出力\n",
        "    y = u2\n",
        "    \n",
        "    # print_vec(\"総入力1\", u1)\n",
        "    # print_vec(\"中間層出力1\", z1)\n",
        "    # print_vec(\"総入力2\", u2)\n",
        "    # print_vec(\"出力1\", y)\n",
        "    # print(\"出力合計: \" + str(np.sum(y)))\n",
        "    \n",
        "    return z1, y\n",
        "\n",
        "def backward04(x, t, z1, y):\n",
        "\n",
        "    # print(\"\\n##### 誤差逆伝播開始 #####\")\n",
        "\n",
        "    grad = {}\n",
        "\n",
        "    W1, W2 = network['W1'], network['W2']\n",
        "    b1, b2 = network['b1'], network['b2']\n",
        "    \n",
        "    # 中間～出力層の更新\n",
        "    delta2 = d_mean_squared_error(t, y)\n",
        "    # b2の勾配\n",
        "    # z1 * w2 + b2 を b2 で微分すると 1 になるのでデルタそのまま(合算)\n",
        "    grad['b2'] = np.sum(delta2, axis=0)\n",
        "    # W2の勾配\n",
        "    # z1 * w2 + b2 を w2 で微分すると z1 なのでデルタ * z1\n",
        "    grad['W2'] = np.dot(z1.T, delta2)\n",
        "    \n",
        "    # 中間層でのデルタ\n",
        "    # d_reluは、0以上なら1、0以下なら0を返す\n",
        "    delta1 = np.dot(delta2, W2.T) * d_relu(z1)\n",
        "\n",
        "    # これは何をやっている？\n",
        "    delta1 = delta1[np.newaxis, :]\n",
        "    \n",
        "    # 入力層～中間層の更新\n",
        "    # b1の勾配\n",
        "    # x * w1 + b1 を b1 で微分すると 1 になるのでデルタそのまま(合算)\n",
        "    grad['b1'] = np.sum(delta1, axis=0)\n",
        "    x = x[np.newaxis, :]\n",
        "    #  W1の勾配\n",
        "    # x * w1 + b1 を w1 で微分すると x なので デルタ * x\n",
        "    grad['W1'] = np.dot(x.T, delta1)\n",
        "\n",
        "    # print_vec(\"偏微分_dE/du2\", delta2)\n",
        "    # print_vec(\"偏微分_dE/du2\", delta1)\n",
        "\n",
        "    # print_vec(\"偏微分_重み1\", grad[\"W1\"])\n",
        "    # print_vec(\"偏微分_重み2\", grad[\"W2\"])\n",
        "    # print_vec(\"偏微分_バイアス1\", grad[\"b1\"])\n",
        "    # print_vec(\"偏微分_バイアス2\", grad[\"b2\"])\n",
        "\n",
        "    return grad\n"
      ],
      "execution_count": null,
      "outputs": []
    },
    {
      "cell_type": "markdown",
      "metadata": {
        "id": "MeaNCZ3Bwab7"
      },
      "source": [
        "### f(x)を予測するモデルを学習"
      ]
    },
    {
      "cell_type": "code",
      "metadata": {
        "colab": {
          "base_uri": "https://localhost:8080/",
          "height": 477
        },
        "id": "KjcEZlDcwZJJ",
        "outputId": "d67f4b2a-21fd-42cd-c01f-83c2723ce5fb"
      },
      "source": [
        "# サンプルデータを作成\n",
        "data_sets_size = 100000\n",
        "# data_sets_size = 1000\n",
        "# data_sets_size = 100\n",
        "data_sets = [0 for i in range(data_sets_size)]\n",
        "\n",
        "for i in range(data_sets_size):\n",
        "    data_sets[i] = {}\n",
        "\n",
        "    # ランダムな値を設定\n",
        "    # data_sets[i]['x'] = np.random.rand(2) * 10 - 5\n",
        "    data_sets[i]['x'] = np.random.rand(2)\n",
        "    # print(data_sets[i]['x'])\n",
        "        \n",
        "    # 目標出力を設定\n",
        "    data_sets[i]['t'] = f(data_sets[i]['x'])\n",
        "\n",
        "losses = []\n",
        "\n",
        "# 学習率\n",
        "learning_rate = 0.07\n",
        "\n",
        "# 抽出数\n",
        "epoch = 1000\n",
        "# epoch = 100\n",
        "# epoch = 10\n",
        "\n",
        "\n",
        "# パラメータの初期化\n",
        "network04 = init_network04()\n",
        "# データのランダム抽出\n",
        "random_datasets = np.random.choice(data_sets, epoch)\n",
        "\n",
        "\n",
        "# 勾配降下の繰り返し\n",
        "for i, dataset in enumerate(random_datasets):\n",
        "    x, t = dataset['x'], dataset['t']\n",
        "    z1, y = forward04(network04, x)\n",
        "    grad = backward04(x, t, z1, y)\n",
        "    # パラメータに勾配適用\n",
        "    for key in ('W1', 'W2', 'b1', 'b2'):\n",
        "        network04[key]  -= learning_rate * grad[key]\n",
        "\n",
        "    # 誤差\n",
        "    loss = mean_squared_error(t, y)\n",
        "    losses.append(loss)\n",
        "\n",
        "    if i % 100 == 0:\n",
        "      print(\"loss:\", loss)\n",
        "\n",
        "print(\"##### 結果表示 #####\")    \n",
        "lists = range(epoch)\n",
        "\n",
        "plt.plot(lists, losses, '.')\n",
        "# グラフの表示\n",
        "plt.show()"
      ],
      "execution_count": null,
      "outputs": [
        {
          "output_type": "stream",
          "text": [
            "##### ネットワークの初期化 #####\n",
            "loss: 2.6170560324444336\n",
            "loss: 4.872089240300031e-08\n",
            "loss: 9.908195209494343e-07\n",
            "loss: 2.2606613934649646e-06\n",
            "loss: 0.002222821367747458\n",
            "loss: 0.0008937094397563183\n",
            "loss: 4.098742549472665e-06\n",
            "loss: 1.7503430640810553e-07\n",
            "loss: 0.0003713050208974452\n",
            "loss: 1.0145516146978898e-07\n",
            "##### 結果表示 #####\n"
          ],
          "name": "stdout"
        },
        {
          "output_type": "display_data",
          "data": {
            "image/png": "[encoded data removed]",
            "text/plain": [
              "<Figure size 432x288 with 1 Axes>"
            ]
          },
          "metadata": {
            "tags": [],
            "needs_background": "light"
          }
        }
      ]
    },
    {
      "cell_type": "markdown",
      "metadata": {
        "id": "BiJ4Aeo6S0zp"
      },
      "source": [
        "## ここまでの考察\n",
        "\n",
        "### いろいろ試して結局、サンプルと同じように作ってやっと学習が収束した。\n",
        "重みやデータを適当に初期化してもうまくいかず、勾配爆発を起こしてしまう。\n",
        "\n",
        "\n",
        "うまくいったときの収束具合(100回に一回出力）\n",
        "##### #### ネットワークの初期化 #####  \n",
        "loss: 2.6170560324444336  \n",
        "loss: 4.872089240300031e-08  \n",
        "loss: 9.908195209494343e-07  \n",
        "loss: 2.2606613934649646e-06  \n",
        "loss: 0.002222821367747458  \n",
        "loss: 0.0008937094397563183  \n",
        "loss: 4.098742549472665e-06  \n",
        "loss: 1.7503430640810553e-07  \n",
        "loss: 0.0003713050208974452  \n",
        "loss: 1.0145516146978898e-07  \n",
        "##### #### 結果表示 #####  \n",
        "これでもまだ安定している方で、入力の幅を大きくしたり、重みの初期化をすこしずらすと急速に勾配爆発が起きる。\n",
        "\n",
        "\n"
      ]
    },
    {
      "cell_type": "code",
      "metadata": {
        "id": "2FNVs5tUTd7d"
      },
      "source": [
        ""
      ],
      "execution_count": null,
      "outputs": []
    }
  ]
}